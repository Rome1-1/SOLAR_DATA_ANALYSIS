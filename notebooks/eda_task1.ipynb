{
 "cells": [
  {
   "cell_type": "code",
   "execution_count": null,
   "metadata": {},
   "outputs": [],
   "source": [
    "import pandas as pd\n",
    "import numpy as np\n",
    "import matplotlib.pyplot as plt\n",
    "import seaborn as sns\n",
    "from scipy.stats import zscore"
   ]
  },
  {
   "cell_type": "code",
   "execution_count": null,
   "metadata": {},
   "outputs": [],
   "source": [
    "# Load the dataset\n",
    "file_path = '../src/combined_solar_data.csv'\n",
    "\n",
    "try:\n",
    "    data = pd.read_csv(file_path)\n",
    "    print(\"Dataset loaded successfully!\")\n",
    "    print(data.head())  # Inspect the first few rows\n",
    "except FileNotFoundError:\n",
    "    print(f\"File not found at: {file_path}. Please check the file path.\")"
   ]
  },
  {
   "cell_type": "code",
   "execution_count": null,
   "metadata": {},
   "outputs": [],
   "source": [
    "# Summary Statistics\n",
    "summary_stats = data.describe()\n",
    "print(\"Summary Statistics:\")\n",
    "print(summary_stats)"
   ]
  },
  {
   "cell_type": "code",
   "execution_count": null,
   "metadata": {},
   "outputs": [],
   "source": [
    "# Data Quality Check\n",
    "missing_values = data.isnull().sum()\n",
    "negative_values = (data.select_dtypes(include=[np.number]) < 0).sum()\n",
    "print(\"\\nMissing Values:\")\n",
    "print(missing_values)\n",
    "print(\"\\nNegative Values:\")\n",
    "print(negative_values)"
   ]
  },
  {
   "cell_type": "code",
   "execution_count": null,
   "metadata": {},
   "outputs": [],
   "source": [
    "# Fill missing values for numeric columns only\n",
    "numeric_cols = data.select_dtypes(include=[np.number]).columns\n",
    "data[numeric_cols] = data[numeric_cols].fillna(data[numeric_cols].median())\n",
    "print(\"Missing values filled for numeric columns.\")"
   ]
  },
  {
   "cell_type": "code",
   "execution_count": null,
   "metadata": {},
   "outputs": [],
   "source": [
    "# Detecting outliers using Z-score\n",
    "z_scores = zscore(data.select_dtypes(include=[np.number]))\n",
    "outliers = np.where(np.abs(z_scores) > 3)\n",
    "print(\"\\nNumber of outliers:\", len(outliers[0]))"
   ]
  },
  {
   "cell_type": "code",
   "execution_count": null,
   "metadata": {},
   "outputs": [],
   "source": [
    "# Time Series Analysis\n",
    "# Time Series Analysis - Downsample if necessary for better performance\n",
    "downsampled_data = data.iloc[::100, :]  # Plot every 100th data point\n",
    "\n",
    "# Plotting\n",
    "plt.figure(figsize=(15, 6))\n",
    "plt.plot(downsampled_data['Timestamp'], downsampled_data['GHI'], label='GHI')\n",
    "plt.plot(downsampled_data['Timestamp'], downsampled_data['DNI'], label='DNI')\n",
    "plt.plot(downsampled_data['Timestamp'], downsampled_data['DHI'], label='DHI')\n",
    "plt.plot(downsampled_data['Timestamp'], downsampled_data['Tamb'], label='Tamb')\n",
    "plt.xlabel('Time')\n",
    "plt.ylabel('Values')\n",
    "plt.title('Time Series Analysis of Solar Radiation and Temperature')\n",
    "plt.legend()\n",
    "plt.show()"
   ]
  },
  {
   "cell_type": "code",
   "execution_count": null,
   "metadata": {},
   "outputs": [],
   "source": [
    "# Impact of Cleaning on Sensor Readings\n",
    "plt.figure(figsize=(15, 6))\n",
    "sns.boxplot(x=data['Cleaning'], y=data['ModA'])\n",
    "plt.title('Impact of Cleaning on Sensor ModA')\n",
    "plt.show()\n",
    "\n",
    "plt.figure(figsize=(15, 6))\n",
    "sns.boxplot(x=data['Cleaning'], y=data['ModB'])\n",
    "plt.title('Impact of Cleaning on Sensor ModB')\n",
    "plt.show()"
   ]
  },
  {
   "cell_type": "code",
   "execution_count": null,
   "metadata": {},
   "outputs": [],
   "source": [
    "# Correlation Analysis\n",
    "# Ensure only numeric columns are included for correlation calculation\n",
    "numeric_data = data.select_dtypes(include=[np.number])\n",
    "\n",
    "# Calculate the correlation matrix\n",
    "corr_matrix = numeric_data.corr()\n",
    "\n",
    "# Plot the heatmap\n",
    "plt.figure(figsize=(12, 8))\n",
    "sns.heatmap(corr_matrix, annot=True, cmap='coolwarm')\n",
    "plt.title('Correlation Matrix')\n",
    "plt.show()"
   ]
  },
  {
   "cell_type": "code",
   "execution_count": null,
   "metadata": {},
   "outputs": [],
   "source": [
    "# Wind Analysis\n",
    "sns.scatterplot(x=data['WD'], y=data['WS'], hue=data['Cleaning'])\n",
    "plt.title('Wind Direction vs Wind Speed')\n",
    "plt.show()"
   ]
  },
  {
   "cell_type": "code",
   "execution_count": null,
   "metadata": {},
   "outputs": [],
   "source": [
    "# Temperature Analysis\n",
    "sns.scatterplot(x=data['RH'], y=data['Tamb'], hue=data['GHI'], palette='viridis')\n",
    "plt.title('Relative Humidity vs Ambient Temperature')\n",
    "plt.show()"
   ]
  },
  {
   "cell_type": "code",
   "execution_count": null,
   "metadata": {},
   "outputs": [],
   "source": [
    "# Histograms\n",
    "columns_to_plot = ['GHI', 'DNI', 'DHI', 'WS', 'Tamb']\n",
    "plt.figure(figsize=(15, 10))\n",
    "for i, col in enumerate(columns_to_plot, 1):\n",
    "    plt.subplot(3, 2, i)\n",
    "    sns.histplot(data[col], kde=True, bins=30)\n",
    "    plt.title(f'Histogram of {col}')\n",
    "plt.tight_layout()\n",
    "plt.show()"
   ]
  },
  {
   "cell_type": "code",
   "execution_count": null,
   "metadata": {},
   "outputs": [],
   "source": [
    "# Bubble Chart\n",
    "plt.figure(figsize=(10, 6))\n",
    "bubble = plt.scatter(\n",
    "    data['GHI'], data['Tamb'], s=data['RH'], c=data['BP'], alpha=0.5, cmap='viridis')\n",
    "plt.colorbar(bubble, label='Barometric Pressure')\n",
    "plt.xlabel('GHI')\n",
    "plt.ylabel('Tamb')\n",
    "plt.title('GHI vs Tamb with RH as Bubble Size and BP as Color')\n",
    "plt.show()"
   ]
  },
  {
   "cell_type": "code",
   "execution_count": null,
   "metadata": {},
   "outputs": [],
   "source": [
    "# Clean up Comments column if entirely null\n",
    "data.drop(columns=['Comments'], inplace=True, errors='ignore')\n",
    "\n",
    "# Save cleaned data\n",
    "data.to_csv('cleaned_solar_data.csv', index=False)"
   ]
  }
 ],
 "metadata": {
  "kernelspec": {
   "display_name": "env",
   "language": "python",
   "name": "python3"
  },
  "language_info": {
   "codemirror_mode": {
    "name": "ipython",
    "version": 3
   },
   "file_extension": ".py",
   "mimetype": "text/x-python",
   "name": "python",
   "nbconvert_exporter": "python",
   "pygments_lexer": "ipython3",
   "version": "3.13.1"
  }
 },
 "nbformat": 4,
 "nbformat_minor": 2
}
